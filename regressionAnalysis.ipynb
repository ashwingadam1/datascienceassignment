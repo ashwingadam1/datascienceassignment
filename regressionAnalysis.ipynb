{
 "cells": [
  {
   "cell_type": "code",
   "execution_count": 63,
   "metadata": {
    "collapsed": true
   },
   "outputs": [],
   "source": [
    "from __future__ import division\n",
    "import re\n",
    "\n",
    "def solve(eq,value, var=('x', 'y')):\n",
    "    print eq\n",
    "    var_re = re.compile(r'(\\+|\\-)\\s*(\\d*)\\s*\\*?\\s*(x|y)')\n",
    "    const_re = re.compile(r'(\\+|\\-)\\s*(\\-?\\d+)$')\n",
    "\n",
    "    constants, eqns, coeffs, default  = [],[], {'x': [], 'y': []}, {'': '1'}\n",
    "\n",
    "    for e in eq.split(';'):\n",
    "        eq1 = e.replace(\"=\",\" - \").strip()\n",
    "        if not eq1.startswith('-'):\n",
    "            eq1 = '+' + eq1\n",
    "        eqns.append(eq1)\n",
    "\n",
    "    var_eq1, var_eq2 = map(var_re.findall, eqns)\n",
    "\n",
    "    constants = [-1*int(x[0][1]) for x in map(const_re.findall, eqns)]\n",
    "    [coeffs[x[2]].append(int((x[0]+ default.get(x[1], x[1])).strip())) for x in (var_eq1 + var_eq2)]\n",
    "    \n",
    "    ycoeff = coeffs['y']\n",
    "    xcoeff = coeffs['x']\n",
    "    \n",
    "    x_val=(-1*(ycoeff[1])*value)+(-1*(constants[1]))\n",
    "    x_val=x_val/xcoeff[1]\n",
    "    print 'value of x when y='+str(value)+\" is \"+str(x_val)\n",
    "\n",
    "    if ycoeff[0]*ycoeff[1] > 0:\n",
    "        ycoeff[1] *= -1\n",
    "        xcoeff[0] *= ycoeff[1]\n",
    "        constants[0] *= -1*ycoeff[1]        \n",
    "    else:\n",
    "        xcoeff[0] *= -1*ycoeff[1]\n",
    "        constants[0] *= ycoeff[1]\n",
    "        \n",
    "    xcoeff[1] *= ycoeff[0]\n",
    "    constants[1] *= -1*ycoeff[0]\n",
    "    xval = sum(constants)*1.0/sum(xcoeff)\n",
    "    z = eval(eqns[0],{'x': xval, 'y': 1j})\n",
    "    yval = -z.real*1.0/z.imag\n",
    "    return (xval, yval)"
   ]
  },
  {
   "cell_type": "code",
   "execution_count": null,
   "metadata": {},
   "outputs": [],
   "source": [
    "equation_y_on_x='4*x - 5*y = -33'\n",
    "equation_x_on_y='20*x - 9*y = 107'\n",
    "caluclating_x_when_y=7\n",
    "values=solve(equation_y_on_x+';'+ equation_x_on_y,caluclating_x_when_y)\n",
    "print 'the means of x and y are'+str(values)"
   ]
  }
 ],
 "metadata": {
  "kernelspec": {
   "display_name": "Python 2",
   "language": "python",
   "name": "python2"
  },
  "language_info": {
   "codemirror_mode": {
    "name": "ipython",
    "version": 2.0
   },
   "file_extension": ".py",
   "mimetype": "text/x-python",
   "name": "python",
   "nbconvert_exporter": "python",
   "pygments_lexer": "ipython2",
   "version": "2.7.6"
  }
 },
 "nbformat": 4,
 "nbformat_minor": 0
}